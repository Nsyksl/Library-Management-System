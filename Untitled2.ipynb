{
 "cells": [
  {
   "cell_type": "code",
   "execution_count": null,
   "id": "4b47a3e4",
   "metadata": {},
   "outputs": [],
   "source": [
    "# Streamlit uygulamanızın adını ve port numarasını ayarlayın\n",
    "app_file_name = \"untitled4.py\"\n",
    "port = 8501\n",
    "!ngrok authtoken \"YOUR NGROK AUTHTOKEN\"\n",
    "\n",
    "# Streamlit sunucusunu başlatın\n",
    "streamlit_cmd = f\"streamlit run {app_file_name} --server.port {port}\"\n",
    "streamlit_process = subprocess.Popen(streamlit_cmd.split(), stdout=subprocess.PIPE)\n",
    "\n",
    "# Ngrok ile kullanıma açın.\n",
    "ngrok_tunnel = ngrok.connect(port)\n",
    "ngrok_url = ngrok_tunnel.public_url\n",
    "\n",
    "print(\"URL:\", ngrok_url)\n",
    "\n",
    "# Hücreyi çalışır halde bırakmak için bir giriş bekleyin\n",
    "input(\"Press Enter to stop serving the Streamlit app...\")\n",
    "\n",
    "# Streamlit sunucusunu durdurun\n",
    "streamlit_process.kill()\n",
    "\n",
    "# Ngrok tünelini kapatın\n",
    "ngrok.kill()"
   ]
  }
 ],
 "metadata": {
  "kernelspec": {
   "display_name": "Python 3 (ipykernel)",
   "language": "python",
   "name": "python3"
  },
  "language_info": {
   "codemirror_mode": {
    "name": "ipython",
    "version": 3
   },
   "file_extension": ".py",
   "mimetype": "text/x-python",
   "name": "python",
   "nbconvert_exporter": "python",
   "pygments_lexer": "ipython3",
   "version": "3.10.9"
  }
 },
 "nbformat": 4,
 "nbformat_minor": 5
}
